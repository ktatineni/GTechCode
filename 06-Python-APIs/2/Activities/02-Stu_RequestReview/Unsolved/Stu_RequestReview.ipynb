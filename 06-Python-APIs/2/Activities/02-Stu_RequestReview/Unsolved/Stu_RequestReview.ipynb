{
 "cells": [
  {
   "cell_type": "code",
   "execution_count": 4,
   "metadata": {
    "collapsed": true
   },
   "outputs": [],
   "source": [
    "# Dependencies\n",
    "import json\n",
    "import requests "
   ]
  },
  {
   "cell_type": "code",
   "execution_count": 7,
   "metadata": {
    "collapsed": true
   },
   "outputs": [
    {
     "data": {
      "text/plain": [
       "'http://nyt-mongo-scraper.herokuapp.com/api/headlines'"
      ]
     },
     "execution_count": 7,
     "metadata": {},
     "output_type": "execute_result"
    }
   ],
   "source": [
    "# Specify the URL\n",
    "url = 'http://nyt-mongo-scraper.herokuapp.com/api/headlines'\n",
    "url\n",
    "# Make request and store response"
   ]
  },
  {
   "cell_type": "code",
   "execution_count": 10,
   "metadata": {},
   "outputs": [
    {
     "data": {
      "text/plain": [
       "[{'saved': False,\n",
       "  '_id': '5c9d5600ac0da90015dcd2bd',\n",
       "  'headline': 'Gen Z: In Their Own Words',\n",
       "  'summary': 'What is it like to be part of what has been called the most diverse generation in U.S. history? We asked.',\n",
       "  'url': 'https://www.nytimes.com/interactive/2019/us/generation-z.html',\n",
       "  'date': '2019-03-28T23:17:20.357Z',\n",
       "  '__v': 0},\n",
       " {'saved': False,\n",
       "  '_id': '5c9d5600ac0da90015dcd2bb',\n",
       "  'headline': 'Trump to Speak in Michigan at First Rally Since Mueller ReportMueller Report Exceeded 300 Pages. Barr’s Summary Was Only Four.Calls for Schiff to Resign Highlight Widening Chasm',\n",
       "  'summary': 'The page count raises questions about what the attorney general, William P. Barr, might have left out of his summary.Acrimony in the Intelligence Committee, led by Representative Adam B. Schiff, laid bare the divide in Congress after the conclusion of the Mueller inquiry.',\n",
       "  'url': 'https://www.nytimes.com/2019/03/28/us/politics/trump-rally-grand-rapids.html',\n",
       "  'date': '2019-03-28T23:17:20.356Z',\n",
       "  '__v': 0},\n",
       " {'saved': False,\n",
       "  '_id': '5c9d4bb0ac0da90015dcd2ba',\n",
       "  'headline': 'French Raise a Glass to a Health Warning About Too Much Wine',\n",
       "  'summary': '‘‘For your health, it’s maximum two glasses a day, and not every day,” the health agency said. France’s response? Deafening silence.',\n",
       "  'url': 'https://www.nytimes.com/2019/03/28/world/europe/france-wine-health-warning.html',\n",
       "  'date': '2019-03-28T22:33:20.958Z',\n",
       "  '__v': 0},\n",
       " {'saved': False,\n",
       "  '_id': '5c9d4bb0ac0da90015dcd2b7',\n",
       "  'headline': 'Mueller Report Exceeded 300 Pages. Barr’s Summary Was Only Four.Demands for Schiff’s Head Highlight Chasm That Widened With Mueller ReportFederal funding for the Special Olympics will continue, President Trump said, reversing his education secretary’s pledge to cut it.',\n",
       "  'summary': 'Republicans on the Intelligence Committee called on its chairman, Representative Adam B. Schiff, to resign. He accused them of turning a blind eye to Mr. Trump’s wrongdoing.',\n",
       "  'url': 'https://www.nytimes.com/2019/03/28/us/politics/mueller-report-length.html',\n",
       "  'date': '2019-03-28T22:33:20.957Z',\n",
       "  '__v': 0},\n",
       " {'saved': False,\n",
       "  '_id': '5c9d4bb0ac0da90015dcd2b8',\n",
       "  'headline': 'Meghan Markle and My Tabloid Obsession',\n",
       "  'summary': 'She’s a Rorschach test for whoever happens to be reading and writing about her.',\n",
       "  'url': 'https://www.nytimes.com/2019/03/28/opinion/meghan-markle-and-my-tabloid-obsession.html',\n",
       "  'date': '2019-03-28T22:33:20.957Z',\n",
       "  '__v': 0}]"
      ]
     },
     "execution_count": 10,
     "metadata": {},
     "output_type": "execute_result"
    }
   ],
   "source": [
    "response = requests.get(url).json()\n",
    "response"
   ]
  },
  {
   "cell_type": "code",
   "execution_count": 11,
   "metadata": {
    "collapsed": true
   },
   "outputs": [
    {
     "data": {
      "text/plain": [
       "{'saved': False,\n",
       " '_id': '5c9d5600ac0da90015dcd2bd',\n",
       " 'headline': 'Gen Z: In Their Own Words',\n",
       " 'summary': 'What is it like to be part of what has been called the most diverse generation in U.S. history? We asked.',\n",
       " 'url': 'https://www.nytimes.com/interactive/2019/us/generation-z.html',\n",
       " 'date': '2019-03-28T23:17:20.357Z',\n",
       " '__v': 0}"
      ]
     },
     "execution_count": 11,
     "metadata": {},
     "output_type": "execute_result"
    }
   ],
   "source": [
    "# JSON-ify response\n",
    "response[0]"
   ]
  },
  {
   "cell_type": "code",
   "execution_count": null,
   "metadata": {
    "collapsed": true,
    "scrolled": true
   },
   "outputs": [],
   "source": [
    "# Print first and last articles"
   ]
  },
  {
   "cell_type": "code",
   "execution_count": null,
   "metadata": {
    "collapsed": true
   },
   "outputs": [],
   "source": [
    "#Print the number of responses received."
   ]
  }
 ],
 "metadata": {
  "kernelspec": {
   "display_name": "Python 3",
   "language": "python",
   "name": "python3"
  },
  "language_info": {
   "codemirror_mode": {
    "name": "ipython",
    "version": 3
   },
   "file_extension": ".py",
   "mimetype": "text/x-python",
   "name": "python",
   "nbconvert_exporter": "python",
   "pygments_lexer": "ipython3",
   "version": "3.7.1"
  },
  "varInspector": {
   "cols": {
    "lenName": 16,
    "lenType": 16,
    "lenVar": 40
   },
   "kernels_config": {
    "python": {
     "delete_cmd_postfix": "",
     "delete_cmd_prefix": "del ",
     "library": "var_list.py",
     "varRefreshCmd": "print(var_dic_list())"
    },
    "r": {
     "delete_cmd_postfix": ") ",
     "delete_cmd_prefix": "rm(",
     "library": "var_list.r",
     "varRefreshCmd": "cat(var_dic_list()) "
    }
   },
   "types_to_exclude": [
    "module",
    "function",
    "builtin_function_or_method",
    "instance",
    "_Feature"
   ],
   "window_display": false
  }
 },
 "nbformat": 4,
 "nbformat_minor": 2
}
