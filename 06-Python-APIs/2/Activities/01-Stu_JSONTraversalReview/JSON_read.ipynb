{
 "cells": [
  {
   "cell_type": "code",
   "execution_count": 18,
   "metadata": {},
   "outputs": [],
   "source": [
    "import json\n",
    "import requests as req\n",
    "import os"
   ]
  },
  {
   "cell_type": "code",
   "execution_count": 19,
   "metadata": {},
   "outputs": [],
   "source": [
    "filepath = '/Users/krishna/Downloads/youtube_response.json.txt'"
   ]
  },
  {
   "cell_type": "code",
   "execution_count": 26,
   "metadata": {},
   "outputs": [],
   "source": [
    "json_data = json.load(open(filepath))"
   ]
  },
  {
   "cell_type": "code",
   "execution_count": 27,
   "metadata": {},
   "outputs": [
    {
     "data": {
      "text/plain": [
       "{'apiVersion': '2.0',\n",
       " 'data': {'updated': '2010-01-07T19:58:42.949Z',\n",
       "  'totalItems': 800,\n",
       "  'startIndex': 1,\n",
       "  'itemsPerPage': 1,\n",
       "  'items': [{'id': 'hYB0mn5zh2c',\n",
       "    'uploaded': '2007-06-05T22:07:03.000Z',\n",
       "    'updated': '2010-01-07T13:26:50.000Z',\n",
       "    'uploader': 'GoogleDeveloperDay',\n",
       "    'category': 'News',\n",
       "    'title': 'Google Developers Day US - Maps API Introduction',\n",
       "    'description': 'Google Maps API Introduction ...',\n",
       "    'tags': ['GDD07', 'GDD07US', 'Maps'],\n",
       "    'thumbnail': {'default': 'http://i.ytimg.com/vi/hYB0mn5zh2c/default.jpg',\n",
       "     'hqDefault': 'http://i.ytimg.com/vi/hYB0mn5zh2c/hqdefault.jpg'},\n",
       "    'player': {'default': 'http://www.youtube.com/watch?vu003dhYB0mn5zh2c'},\n",
       "    'content': {'1': 'rtsp://v5.cache3.c.youtube.com/CiILENy.../0/0/0/video.3gp',\n",
       "     '5': 'http://www.youtube.com/v/hYB0mn5zh2c?f...',\n",
       "     '6': 'rtsp://v1.cache1.c.youtube.com/CiILENy.../0/0/0/video.3gp'},\n",
       "    'duration': 2840,\n",
       "    'aspectRatio': 'widescreen',\n",
       "    'rating': 4.63,\n",
       "    'ratingCount': 68,\n",
       "    'viewCount': 220101,\n",
       "    'favoriteCount': 201,\n",
       "    'commentCount': 22,\n",
       "    'status': {'value': 'restricted', 'reason': 'limitedSyndication'},\n",
       "    'accessControl': {'syndicate': 'allowed',\n",
       "     'commentVote': 'allowed',\n",
       "     'rate': 'allowed',\n",
       "     'list': 'allowed',\n",
       "     'comment': 'allowed',\n",
       "     'embed': 'allowed',\n",
       "     'videoRespond': 'moderated'}}]}}"
      ]
     },
     "execution_count": 27,
     "metadata": {},
     "output_type": "execute_result"
    }
   ],
   "source": [
    "json_data"
   ]
  },
  {
   "cell_type": "code",
   "execution_count": 29,
   "metadata": {},
   "outputs": [],
   "source": [
    "data_stuff = json_data['data']"
   ]
  },
  {
   "cell_type": "code",
   "execution_count": 35,
   "metadata": {},
   "outputs": [],
   "source": [
    "itemstuff = data_stuff['items'][0]"
   ]
  },
  {
   "cell_type": "code",
   "execution_count": 36,
   "metadata": {},
   "outputs": [
    {
     "data": {
      "text/plain": [
       "{'id': 'hYB0mn5zh2c',\n",
       " 'uploaded': '2007-06-05T22:07:03.000Z',\n",
       " 'updated': '2010-01-07T13:26:50.000Z',\n",
       " 'uploader': 'GoogleDeveloperDay',\n",
       " 'category': 'News',\n",
       " 'title': 'Google Developers Day US - Maps API Introduction',\n",
       " 'description': 'Google Maps API Introduction ...',\n",
       " 'tags': ['GDD07', 'GDD07US', 'Maps'],\n",
       " 'thumbnail': {'default': 'http://i.ytimg.com/vi/hYB0mn5zh2c/default.jpg',\n",
       "  'hqDefault': 'http://i.ytimg.com/vi/hYB0mn5zh2c/hqdefault.jpg'},\n",
       " 'player': {'default': 'http://www.youtube.com/watch?vu003dhYB0mn5zh2c'},\n",
       " 'content': {'1': 'rtsp://v5.cache3.c.youtube.com/CiILENy.../0/0/0/video.3gp',\n",
       "  '5': 'http://www.youtube.com/v/hYB0mn5zh2c?f...',\n",
       "  '6': 'rtsp://v1.cache1.c.youtube.com/CiILENy.../0/0/0/video.3gp'},\n",
       " 'duration': 2840,\n",
       " 'aspectRatio': 'widescreen',\n",
       " 'rating': 4.63,\n",
       " 'ratingCount': 68,\n",
       " 'viewCount': 220101,\n",
       " 'favoriteCount': 201,\n",
       " 'commentCount': 22,\n",
       " 'status': {'value': 'restricted', 'reason': 'limitedSyndication'},\n",
       " 'accessControl': {'syndicate': 'allowed',\n",
       "  'commentVote': 'allowed',\n",
       "  'rate': 'allowed',\n",
       "  'list': 'allowed',\n",
       "  'comment': 'allowed',\n",
       "  'embed': 'allowed',\n",
       "  'videoRespond': 'moderated'}}"
      ]
     },
     "execution_count": 36,
     "metadata": {},
     "output_type": "execute_result"
    }
   ],
   "source": [
    "itemstuff"
   ]
  },
  {
   "cell_type": "code",
   "execution_count": 38,
   "metadata": {},
   "outputs": [
    {
     "data": {
      "text/plain": [
       "'Google Developers Day US - Maps API Introduction'"
      ]
     },
     "execution_count": 38,
     "metadata": {},
     "output_type": "execute_result"
    }
   ],
   "source": [
    "title = itemstuff['title']\n",
    "title "
   ]
  },
  {
   "cell_type": "code",
   "execution_count": 39,
   "metadata": {},
   "outputs": [
    {
     "data": {
      "text/plain": [
       "4.63"
      ]
     },
     "execution_count": 39,
     "metadata": {},
     "output_type": "execute_result"
    }
   ],
   "source": [
    "itemstuff['rating']"
   ]
  },
  {
   "cell_type": "code",
   "execution_count": 40,
   "metadata": {},
   "outputs": [
    {
     "data": {
      "text/plain": [
       "220101"
      ]
     },
     "execution_count": 40,
     "metadata": {},
     "output_type": "execute_result"
    }
   ],
   "source": [
    "itemstuff['viewCount']"
   ]
  },
  {
   "cell_type": "code",
   "execution_count": 42,
   "metadata": {},
   "outputs": [
    {
     "data": {
      "text/plain": [
       "'http://i.ytimg.com/vi/hYB0mn5zh2c/default.jpg'"
      ]
     },
     "execution_count": 42,
     "metadata": {},
     "output_type": "execute_result"
    }
   ],
   "source": [
    "itemstuff['thumbnail']['default']"
   ]
  },
  {
   "cell_type": "code",
   "execution_count": null,
   "metadata": {},
   "outputs": [],
   "source": []
  }
 ],
 "metadata": {
  "kernelspec": {
   "display_name": "Python 3",
   "language": "python",
   "name": "python3"
  },
  "language_info": {
   "codemirror_mode": {
    "name": "ipython",
    "version": 3
   },
   "file_extension": ".py",
   "mimetype": "text/x-python",
   "name": "python",
   "nbconvert_exporter": "python",
   "pygments_lexer": "ipython3",
   "version": "3.7.1"
  }
 },
 "nbformat": 4,
 "nbformat_minor": 2
}
