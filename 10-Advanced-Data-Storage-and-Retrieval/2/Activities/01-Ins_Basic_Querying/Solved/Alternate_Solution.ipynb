{
 "cells": [
  {
   "cell_type": "code",
   "execution_count": 20,
   "metadata": {},
   "outputs": [],
   "source": [
    "import sqlite3"
   ]
  },
  {
   "cell_type": "code",
   "execution_count": 21,
   "metadata": {},
   "outputs": [],
   "source": [
    "#connect\n",
    "conn = sqlite3.connect(\"../Resources/database.sqlite\")\n"
   ]
  },
  {
   "cell_type": "code",
   "execution_count": 22,
   "metadata": {},
   "outputs": [],
   "source": [
    "#obtain a cursor - something to loop through via database connection\n",
    "cur = conn.cursor()"
   ]
  },
  {
   "cell_type": "code",
   "execution_count": 23,
   "metadata": {},
   "outputs": [
    {
     "data": {
      "text/plain": [
       "<sqlite3.Cursor at 0x598aa40>"
      ]
     },
     "execution_count": 23,
     "metadata": {},
     "output_type": "execute_result"
    }
   ],
   "source": [
    "cur.execute(\"SELECT name FROM sqlite_master WHERE type='table'\")"
   ]
  },
  {
   "cell_type": "code",
   "execution_count": 24,
   "metadata": {},
   "outputs": [
    {
     "name": "stdout",
     "output_type": "stream",
     "text": [
      "('all_star',)\n",
      "('appearances',)\n",
      "('manager_award',)\n",
      "('player_award',)\n",
      "('manager_award_vote',)\n",
      "('player_award_vote',)\n",
      "('batting',)\n",
      "('batting_postseason',)\n",
      "('player_college',)\n",
      "('fielding',)\n",
      "('fielding_outfield',)\n",
      "('fielding_postseason',)\n",
      "('hall_of_fame',)\n",
      "('home_game',)\n",
      "('manager',)\n",
      "('manager_half',)\n",
      "('player',)\n",
      "('park',)\n",
      "('pitching',)\n",
      "('pitching_postseason',)\n",
      "('salary',)\n",
      "('college',)\n",
      "('postseason',)\n",
      "('team',)\n",
      "('team_franchise',)\n",
      "('team_half',)\n",
      "('BaseballPlayers',)\n"
     ]
    }
   ],
   "source": [
    "#obtain data from cursor via loop - in this case - table names in database file\n",
    "rows = cur.fetchall()\n",
    " \n",
    "for row in rows:\n",
    "    print(row)"
   ]
  },
  {
   "cell_type": "code",
   "execution_count": 25,
   "metadata": {},
   "outputs": [
    {
     "data": {
      "text/plain": [
       "<sqlite3.Cursor at 0x598aa40>"
      ]
     },
     "execution_count": 25,
     "metadata": {},
     "output_type": "execute_result"
    }
   ],
   "source": [
    "#obtain details of the schema/table format from table named player\n",
    "cur.execute(\"SELECT sql FROM sqlite_master WHERE name='player'\")\n"
   ]
  },
  {
   "cell_type": "code",
   "execution_count": 26,
   "metadata": {},
   "outputs": [
    {
     "name": "stdout",
     "output_type": "stream",
     "text": [
      "('CREATE TABLE player (\\n    player_id TEXT,\\n    birth_year NUMERIC,\\n    birth_month NUMERIC,\\n    birth_day NUMERIC,\\n    birth_country TEXT,\\n    birth_state TEXT,\\n    birth_city TEXT,\\n    death_year NUMERIC,\\n    death_month NUMERIC,\\n    death_day NUMERIC,\\n    death_country TEXT,\\n    death_state TEXT,\\n    death_city TEXT,\\n    name_first TEXT,\\n    name_last TEXT,\\n    name_given TEXT,\\n    weight NUMERIC,\\n    height NUMERIC,\\n    bats TEXT,\\n    throws TEXT,\\n    debut TEXT,\\n    final_game TEXT,\\n    retro_id TEXT,\\n    bbref_id TEXT)',)\n"
     ]
    }
   ],
   "source": [
    "rows = cur.fetchall()\n",
    " \n",
    "for row in rows:\n",
    "    print(row)"
   ]
  },
  {
   "cell_type": "code",
   "execution_count": 27,
   "metadata": {},
   "outputs": [
    {
     "name": "stdout",
     "output_type": "stream",
     "text": [
      "(16504,)\n"
     ]
    }
   ],
   "source": [
    "#obtain number of players from USA\n",
    "cur.execute(\"SELECT count(*) FROM player WHERE birth_country= 'USA'\")\n",
    "rows = cur.fetchall()\n",
    " \n",
    "for row in rows:\n",
    "    print(row)\n"
   ]
  },
  {
   "cell_type": "code",
   "execution_count": null,
   "metadata": {},
   "outputs": [],
   "source": []
  }
 ],
 "metadata": {
  "kernelspec": {
   "display_name": "Python 3",
   "language": "python",
   "name": "python3"
  },
  "language_info": {
   "codemirror_mode": {
    "name": "ipython",
    "version": 3
   },
   "file_extension": ".py",
   "mimetype": "text/x-python",
   "name": "python",
   "nbconvert_exporter": "python",
   "pygments_lexer": "ipython3",
   "version": "3.7.1"
  },
  "varInspector": {
   "cols": {
    "lenName": 16,
    "lenType": 16,
    "lenVar": 40
   },
   "kernels_config": {
    "python": {
     "delete_cmd_postfix": "",
     "delete_cmd_prefix": "del ",
     "library": "var_list.py",
     "varRefreshCmd": "print(var_dic_list())"
    },
    "r": {
     "delete_cmd_postfix": ") ",
     "delete_cmd_prefix": "rm(",
     "library": "var_list.r",
     "varRefreshCmd": "cat(var_dic_list()) "
    }
   },
   "types_to_exclude": [
    "module",
    "function",
    "builtin_function_or_method",
    "instance",
    "_Feature"
   ],
   "window_display": false
  }
 },
 "nbformat": 4,
 "nbformat_minor": 2
}
