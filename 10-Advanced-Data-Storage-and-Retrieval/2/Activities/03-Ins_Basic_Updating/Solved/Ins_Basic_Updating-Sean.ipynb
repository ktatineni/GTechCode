{
 "cells": [
  {
   "cell_type": "code",
   "execution_count": 3,
   "metadata": {},
   "outputs": [],
   "source": [
    "import sqlite3"
   ]
  },
  {
   "cell_type": "code",
   "execution_count": 4,
   "metadata": {},
   "outputs": [],
   "source": [
    "#connect\n",
    "conn = sqlite3.connect(\"../Resources/pets.sqlite\")"
   ]
  },
  {
   "cell_type": "code",
   "execution_count": 5,
   "metadata": {},
   "outputs": [
    {
     "name": "stdout",
     "output_type": "stream",
     "text": [
      "('CREATE TABLE pet (\\n\\tid INTEGER NOT NULL, \\n\\tname VARCHAR, \\n\\ttype VARCHAR, \\n\\tage INTEGER, \\n\\tPRIMARY KEY (id)\\n)',)\n"
     ]
    }
   ],
   "source": [
    "#obtain a cursor - something to loop through via database connection\n",
    "cur = conn.cursor()\n",
    "#obtain details of the schema/table format from table named player\n",
    "cur.execute(\"SELECT sql FROM sqlite_master WHERE name='pet'\")\n",
    "rows = cur.fetchall()\n",
    " \n",
    "for row in rows:\n",
    "    print(row)"
   ]
  },
  {
   "cell_type": "code",
   "execution_count": 11,
   "metadata": {},
   "outputs": [
    {
     "name": "stdout",
     "output_type": "stream",
     "text": [
      "(1, 'Justin Timbersnake', 'snek', 2)\n",
      "(2, 'Pawtrick Stewart', 'good boy', 10)\n",
      "(3, 'Godzilla', 'iguana', 1)\n"
     ]
    }
   ],
   "source": [
    "#do basic select * from pet\n",
    "cur.execute(\"SELECT * from pet\")\n",
    "rows = cur.fetchall()\n",
    " \n",
    "for row in rows:\n",
    "    print(row)"
   ]
  },
  {
   "cell_type": "code",
   "execution_count": 8,
   "metadata": {},
   "outputs": [],
   "source": [
    "#rows to insert\n",
    "rowsinsert = [(4,'Justin Timbersnake', 'snek', 2),\n",
    " (5,'Pawtrick Stewart', 'good boy', 10),\n",
    " (6,'Godzilla', 'iguana', 1),\n",
    " (7,'Marshmallow', 'polar bear', 4)]\n"
   ]
  },
  {
   "cell_type": "code",
   "execution_count": 12,
   "metadata": {},
   "outputs": [],
   "source": [
    "cur.executemany('insert into pet values (?,?,?,?)', rowsinsert)\n",
    "conn.commit()"
   ]
  },
  {
   "cell_type": "code",
   "execution_count": 13,
   "metadata": {},
   "outputs": [
    {
     "name": "stdout",
     "output_type": "stream",
     "text": [
      "(1, 'Justin Timbersnake', 'snek', 2)\n",
      "(2, 'Pawtrick Stewart', 'good boy', 10)\n",
      "(3, 'Godzilla', 'iguana', 1)\n",
      "(4, 'Justin Timbersnake', 'snek', 2)\n",
      "(5, 'Pawtrick Stewart', 'good boy', 10)\n",
      "(6, 'Godzilla', 'iguana', 1)\n",
      "(7, 'Marshmallow', 'polar bear', 4)\n"
     ]
    }
   ],
   "source": [
    "#do basic select * from pet - check updates\n",
    "cur.execute(\"SELECT * from pet\")\n",
    "rows = cur.fetchall()\n",
    " \n",
    "for row in rows:\n",
    "    print(row)"
   ]
  },
  {
   "cell_type": "markdown",
   "metadata": {},
   "source": [
    "## Update Data"
   ]
  },
  {
   "cell_type": "code",
   "execution_count": 15,
   "metadata": {},
   "outputs": [],
   "source": [
    "#update command\n",
    "cur.execute(\"UPDATE pet SET name = ? WHERE id = ?\", (\"Chocolate\", 7))\n",
    "#commit result\n",
    "conn.commit()"
   ]
  },
  {
   "cell_type": "code",
   "execution_count": 16,
   "metadata": {},
   "outputs": [
    {
     "name": "stdout",
     "output_type": "stream",
     "text": [
      "(1, 'Justin Timbersnake', 'snek', 2)\n",
      "(2, 'Pawtrick Stewart', 'good boy', 10)\n",
      "(3, 'Godzilla', 'iguana', 1)\n",
      "(4, 'Justin Timbersnake', 'snek', 2)\n",
      "(5, 'Pawtrick Stewart', 'good boy', 10)\n",
      "(6, 'Godzilla', 'iguana', 1)\n",
      "(7, 'Chocolate', 'polar bear', 4)\n"
     ]
    }
   ],
   "source": [
    "#read changes\n",
    "cur.execute(\"SELECT * from pet\")\n",
    "rows = cur.fetchall()\n",
    " \n",
    "for row in rows:\n",
    "    print(row)"
   ]
  },
  {
   "cell_type": "markdown",
   "metadata": {},
   "source": [
    "## Delete Data"
   ]
  },
  {
   "cell_type": "code",
   "execution_count": 17,
   "metadata": {},
   "outputs": [],
   "source": [
    "# Create a query and then delete the row collected\n",
    "cur.execute(\"delete from pet WHERE id=?\", (3,))\n",
    "#commit result\n",
    "conn.commit()\n"
   ]
  },
  {
   "cell_type": "code",
   "execution_count": 18,
   "metadata": {},
   "outputs": [
    {
     "name": "stdout",
     "output_type": "stream",
     "text": [
      "(1, 'Justin Timbersnake', 'snek', 2)\n",
      "(2, 'Pawtrick Stewart', 'good boy', 10)\n",
      "(4, 'Justin Timbersnake', 'snek', 2)\n",
      "(5, 'Pawtrick Stewart', 'good boy', 10)\n",
      "(6, 'Godzilla', 'iguana', 1)\n",
      "(7, 'Chocolate', 'polar bear', 4)\n"
     ]
    }
   ],
   "source": [
    "#read changes\n",
    "cur.execute(\"SELECT * from pet\")\n",
    "rows = cur.fetchall()\n",
    " \n",
    "for row in rows:\n",
    "    print(row)"
   ]
  },
  {
   "cell_type": "code",
   "execution_count": null,
   "metadata": {},
   "outputs": [],
   "source": []
  }
 ],
 "metadata": {
  "kernelspec": {
   "display_name": "Python 3",
   "language": "python",
   "name": "python3"
  },
  "language_info": {
   "codemirror_mode": {
    "name": "ipython",
    "version": 3
   },
   "file_extension": ".py",
   "mimetype": "text/x-python",
   "name": "python",
   "nbconvert_exporter": "python",
   "pygments_lexer": "ipython3",
   "version": "3.7.1"
  },
  "varInspector": {
   "cols": {
    "lenName": 16,
    "lenType": 16,
    "lenVar": 40
   },
   "kernels_config": {
    "python": {
     "delete_cmd_postfix": "",
     "delete_cmd_prefix": "del ",
     "library": "var_list.py",
     "varRefreshCmd": "print(var_dic_list())"
    },
    "r": {
     "delete_cmd_postfix": ") ",
     "delete_cmd_prefix": "rm(",
     "library": "var_list.r",
     "varRefreshCmd": "cat(var_dic_list()) "
    }
   },
   "types_to_exclude": [
    "module",
    "function",
    "builtin_function_or_method",
    "instance",
    "_Feature"
   ],
   "window_display": false
  }
 },
 "nbformat": 4,
 "nbformat_minor": 2
}
